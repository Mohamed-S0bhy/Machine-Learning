{
 "cells": [
  {
   "cell_type": "markdown",
   "id": "e79fede0",
   "metadata": {},
   "source": [
    "# importing libraries"
   ]
  },
  {
   "cell_type": "code",
   "execution_count": 1,
   "id": "ccfdd1cd",
   "metadata": {},
   "outputs": [],
   "source": [
    "import pandas as pd \n",
    "import numpy as np \n",
    "import matplotlib.pyplot as plt\n",
    "import seaborn as sns\n",
    "from sklearn.model_selection import train_test_split\n",
    "from sklearn.linear_model import LinearRegression\n",
    "from sklearn import metrics"
   ]
  },
  {
   "cell_type": "markdown",
   "id": "fb4d4a95",
   "metadata": {},
   "source": [
    "# Loading dataset "
   ]
  },
  {
   "cell_type": "code",
   "execution_count": 2,
   "id": "4b838ddd",
   "metadata": {},
   "outputs": [
    {
     "data": {
      "text/html": [
       "<div>\n",
       "<style scoped>\n",
       "    .dataframe tbody tr th:only-of-type {\n",
       "        vertical-align: middle;\n",
       "    }\n",
       "\n",
       "    .dataframe tbody tr th {\n",
       "        vertical-align: top;\n",
       "    }\n",
       "\n",
       "    .dataframe thead th {\n",
       "        text-align: right;\n",
       "    }\n",
       "</style>\n",
       "<table border=\"1\" class=\"dataframe\">\n",
       "  <thead>\n",
       "    <tr style=\"text-align: right;\">\n",
       "      <th></th>\n",
       "      <th>date</th>\n",
       "      <th>price</th>\n",
       "      <th>bedrooms</th>\n",
       "      <th>bathrooms</th>\n",
       "      <th>sqft_living</th>\n",
       "      <th>sqft_lot</th>\n",
       "      <th>floors</th>\n",
       "      <th>waterfront</th>\n",
       "      <th>view</th>\n",
       "      <th>sqft_above</th>\n",
       "      <th>yr_built</th>\n",
       "      <th>airconditioning</th>\n",
       "      <th>basement</th>\n",
       "      <th>city</th>\n",
       "      <th>statezip</th>\n",
       "      <th>country</th>\n",
       "    </tr>\n",
       "  </thead>\n",
       "  <tbody>\n",
       "    <tr>\n",
       "      <th>501</th>\n",
       "      <td>5/12/2014 0:00</td>\n",
       "      <td>499950</td>\n",
       "      <td>3</td>\n",
       "      <td>1.00</td>\n",
       "      <td>980</td>\n",
       "      <td>6380</td>\n",
       "      <td>1.0</td>\n",
       "      <td>0</td>\n",
       "      <td>0</td>\n",
       "      <td>760</td>\n",
       "      <td>1941</td>\n",
       "      <td>no</td>\n",
       "      <td>no</td>\n",
       "      <td>Seattle</td>\n",
       "      <td>WA 98115</td>\n",
       "      <td>USA</td>\n",
       "    </tr>\n",
       "    <tr>\n",
       "      <th>374</th>\n",
       "      <td>5/8/2014 0:00</td>\n",
       "      <td>413450</td>\n",
       "      <td>3</td>\n",
       "      <td>2.50</td>\n",
       "      <td>1540</td>\n",
       "      <td>1614</td>\n",
       "      <td>3.0</td>\n",
       "      <td>0</td>\n",
       "      <td>0</td>\n",
       "      <td>1470</td>\n",
       "      <td>2008</td>\n",
       "      <td>no</td>\n",
       "      <td>yes</td>\n",
       "      <td>Seattle</td>\n",
       "      <td>WA 98103</td>\n",
       "      <td>USA</td>\n",
       "    </tr>\n",
       "    <tr>\n",
       "      <th>304</th>\n",
       "      <td>5/7/2014 0:00</td>\n",
       "      <td>405000</td>\n",
       "      <td>3</td>\n",
       "      <td>2.25</td>\n",
       "      <td>1660</td>\n",
       "      <td>8307</td>\n",
       "      <td>1.0</td>\n",
       "      <td>0</td>\n",
       "      <td>0</td>\n",
       "      <td>1660</td>\n",
       "      <td>1961</td>\n",
       "      <td>no</td>\n",
       "      <td>yes</td>\n",
       "      <td>Shoreline</td>\n",
       "      <td>WA 98133</td>\n",
       "      <td>USA</td>\n",
       "    </tr>\n",
       "    <tr>\n",
       "      <th>87</th>\n",
       "      <td>5/5/2014 0:00</td>\n",
       "      <td>620000</td>\n",
       "      <td>3</td>\n",
       "      <td>1.75</td>\n",
       "      <td>1480</td>\n",
       "      <td>2185</td>\n",
       "      <td>2.5</td>\n",
       "      <td>0</td>\n",
       "      <td>0</td>\n",
       "      <td>1480</td>\n",
       "      <td>2005</td>\n",
       "      <td>no</td>\n",
       "      <td>yes</td>\n",
       "      <td>Kirkland</td>\n",
       "      <td>WA 98033</td>\n",
       "      <td>USA</td>\n",
       "    </tr>\n",
       "    <tr>\n",
       "      <th>512</th>\n",
       "      <td>5/12/2014 0:00</td>\n",
       "      <td>339000</td>\n",
       "      <td>3</td>\n",
       "      <td>1.00</td>\n",
       "      <td>1080</td>\n",
       "      <td>8100</td>\n",
       "      <td>1.0</td>\n",
       "      <td>0</td>\n",
       "      <td>0</td>\n",
       "      <td>1080</td>\n",
       "      <td>1955</td>\n",
       "      <td>no</td>\n",
       "      <td>no</td>\n",
       "      <td>Shoreline</td>\n",
       "      <td>WA 98155</td>\n",
       "      <td>USA</td>\n",
       "    </tr>\n",
       "  </tbody>\n",
       "</table>\n",
       "</div>"
      ],
      "text/plain": [
       "               date   price  bedrooms  bathrooms  sqft_living  sqft_lot  \\\n",
       "501  5/12/2014 0:00  499950         3       1.00          980      6380   \n",
       "374   5/8/2014 0:00  413450         3       2.50         1540      1614   \n",
       "304   5/7/2014 0:00  405000         3       2.25         1660      8307   \n",
       "87    5/5/2014 0:00  620000         3       1.75         1480      2185   \n",
       "512  5/12/2014 0:00  339000         3       1.00         1080      8100   \n",
       "\n",
       "     floors  waterfront  view  sqft_above  yr_built airconditioning basement  \\\n",
       "501     1.0           0     0         760      1941              no       no   \n",
       "374     3.0           0     0        1470      2008              no      yes   \n",
       "304     1.0           0     0        1660      1961              no      yes   \n",
       "87      2.5           0     0        1480      2005              no      yes   \n",
       "512     1.0           0     0        1080      1955              no       no   \n",
       "\n",
       "          city  statezip country  \n",
       "501    Seattle  WA 98115     USA  \n",
       "374    Seattle  WA 98103     USA  \n",
       "304  Shoreline  WA 98133     USA  \n",
       "87    Kirkland  WA 98033     USA  \n",
       "512  Shoreline  WA 98155     USA  "
      ]
     },
     "execution_count": 2,
     "metadata": {},
     "output_type": "execute_result"
    }
   ],
   "source": [
    "data = pd.read_csv('data3.csv')\n",
    "data.sample(5)"
   ]
  },
  {
   "cell_type": "code",
   "execution_count": 5,
   "id": "d8a56d03",
   "metadata": {},
   "outputs": [
    {
     "data": {
      "text/plain": [
       "(545, 16)"
      ]
     },
     "execution_count": 5,
     "metadata": {},
     "output_type": "execute_result"
    }
   ],
   "source": [
    "data.shape"
   ]
  },
  {
   "cell_type": "code",
   "execution_count": 3,
   "id": "dd59eaa0",
   "metadata": {},
   "outputs": [
    {
     "data": {
      "text/plain": [
       "date               0\n",
       "price              0\n",
       "bedrooms           0\n",
       "bathrooms          0\n",
       "sqft_living        0\n",
       "sqft_lot           0\n",
       "floors             0\n",
       "waterfront         0\n",
       "view               0\n",
       "sqft_above         0\n",
       "yr_built           0\n",
       "airconditioning    0\n",
       "basement           0\n",
       "city               0\n",
       "statezip           0\n",
       "country            0\n",
       "dtype: int64"
      ]
     },
     "execution_count": 3,
     "metadata": {},
     "output_type": "execute_result"
    }
   ],
   "source": [
    "data.isnull().sum()"
   ]
  },
  {
   "cell_type": "markdown",
   "id": "8a7ff932",
   "metadata": {},
   "source": [
    "# Data preprocessing"
   ]
  },
  {
   "cell_type": "code",
   "execution_count": 90,
   "id": "7fea2cf0",
   "metadata": {},
   "outputs": [],
   "source": [
    "# Removing non numerical columns \n",
    "data.drop('city',axis=1,inplace=True)\n",
    "data.drop('statezip',axis=1,inplace=True)\n",
    "data.drop('country',axis=1,inplace=True)"
   ]
  },
  {
   "cell_type": "code",
   "execution_count": 91,
   "id": "693318e1",
   "metadata": {},
   "outputs": [
    {
     "data": {
      "text/html": [
       "<div>\n",
       "<style scoped>\n",
       "    .dataframe tbody tr th:only-of-type {\n",
       "        vertical-align: middle;\n",
       "    }\n",
       "\n",
       "    .dataframe tbody tr th {\n",
       "        vertical-align: top;\n",
       "    }\n",
       "\n",
       "    .dataframe thead th {\n",
       "        text-align: right;\n",
       "    }\n",
       "</style>\n",
       "<table border=\"1\" class=\"dataframe\">\n",
       "  <thead>\n",
       "    <tr style=\"text-align: right;\">\n",
       "      <th></th>\n",
       "      <th>date</th>\n",
       "      <th>price</th>\n",
       "      <th>bedrooms</th>\n",
       "      <th>bathrooms</th>\n",
       "      <th>sqft_living</th>\n",
       "      <th>sqft_lot</th>\n",
       "      <th>floors</th>\n",
       "      <th>waterfront</th>\n",
       "      <th>view</th>\n",
       "      <th>sqft_above</th>\n",
       "      <th>yr_built</th>\n",
       "      <th>airconditioning</th>\n",
       "      <th>basement</th>\n",
       "    </tr>\n",
       "  </thead>\n",
       "  <tbody>\n",
       "    <tr>\n",
       "      <th>193</th>\n",
       "      <td>5/6/2014 0:00</td>\n",
       "      <td>1225000</td>\n",
       "      <td>4</td>\n",
       "      <td>2.25</td>\n",
       "      <td>3490</td>\n",
       "      <td>6906</td>\n",
       "      <td>2.0</td>\n",
       "      <td>0</td>\n",
       "      <td>0</td>\n",
       "      <td>2280</td>\n",
       "      <td>1928</td>\n",
       "      <td>no</td>\n",
       "      <td>yes</td>\n",
       "    </tr>\n",
       "    <tr>\n",
       "      <th>413</th>\n",
       "      <td>5/9/2014 0:00</td>\n",
       "      <td>382000</td>\n",
       "      <td>3</td>\n",
       "      <td>3.25</td>\n",
       "      <td>1410</td>\n",
       "      <td>1253</td>\n",
       "      <td>3.0</td>\n",
       "      <td>0</td>\n",
       "      <td>0</td>\n",
       "      <td>1410</td>\n",
       "      <td>2005</td>\n",
       "      <td>no</td>\n",
       "      <td>yes</td>\n",
       "    </tr>\n",
       "    <tr>\n",
       "      <th>253</th>\n",
       "      <td>5/7/2014 0:00</td>\n",
       "      <td>420000</td>\n",
       "      <td>2</td>\n",
       "      <td>1.50</td>\n",
       "      <td>1040</td>\n",
       "      <td>3500</td>\n",
       "      <td>1.5</td>\n",
       "      <td>0</td>\n",
       "      <td>0</td>\n",
       "      <td>1040</td>\n",
       "      <td>1904</td>\n",
       "      <td>no</td>\n",
       "      <td>no</td>\n",
       "    </tr>\n",
       "  </tbody>\n",
       "</table>\n",
       "</div>"
      ],
      "text/plain": [
       "              date    price  bedrooms  bathrooms  sqft_living  sqft_lot  \\\n",
       "193  5/6/2014 0:00  1225000         4       2.25         3490      6906   \n",
       "413  5/9/2014 0:00   382000         3       3.25         1410      1253   \n",
       "253  5/7/2014 0:00   420000         2       1.50         1040      3500   \n",
       "\n",
       "     floors  waterfront  view  sqft_above  yr_built airconditioning basement  \n",
       "193     2.0           0     0        2280      1928              no      yes  \n",
       "413     3.0           0     0        1410      2005              no      yes  \n",
       "253     1.5           0     0        1040      1904              no       no  "
      ]
     },
     "execution_count": 91,
     "metadata": {},
     "output_type": "execute_result"
    }
   ],
   "source": [
    "data.sample(3)"
   ]
  },
  {
   "cell_type": "code",
   "execution_count": 92,
   "id": "1cfacc2c",
   "metadata": {},
   "outputs": [
    {
     "data": {
      "text/plain": [
       "(545, 13)"
      ]
     },
     "execution_count": 92,
     "metadata": {},
     "output_type": "execute_result"
    }
   ],
   "source": [
    "# Number of rows and columns\n",
    "data.shape"
   ]
  },
  {
   "cell_type": "code",
   "execution_count": 93,
   "id": "508919e8",
   "metadata": {},
   "outputs": [
    {
     "name": "stdout",
     "output_type": "stream",
     "text": [
      "<class 'pandas.core.frame.DataFrame'>\n",
      "RangeIndex: 545 entries, 0 to 544\n",
      "Data columns (total 13 columns):\n",
      " #   Column           Non-Null Count  Dtype  \n",
      "---  ------           --------------  -----  \n",
      " 0   date             545 non-null    object \n",
      " 1   price            545 non-null    int64  \n",
      " 2   bedrooms         545 non-null    int64  \n",
      " 3   bathrooms        545 non-null    float64\n",
      " 4   sqft_living      545 non-null    int64  \n",
      " 5   sqft_lot         545 non-null    int64  \n",
      " 6   floors           545 non-null    float64\n",
      " 7   waterfront       545 non-null    int64  \n",
      " 8   view             545 non-null    int64  \n",
      " 9   sqft_above       545 non-null    int64  \n",
      " 10  yr_built         545 non-null    int64  \n",
      " 11  airconditioning  545 non-null    object \n",
      " 12  basement         545 non-null    object \n",
      "dtypes: float64(2), int64(8), object(3)\n",
      "memory usage: 55.5+ KB\n"
     ]
    }
   ],
   "source": [
    "data.info()"
   ]
  },
  {
   "cell_type": "code",
   "execution_count": 94,
   "id": "7b22cf19",
   "metadata": {},
   "outputs": [],
   "source": [
    "# Convert type of columns from object to date\n",
    "for col in data.columns:\n",
    "    if 'yr' in col or 'date' in col:\n",
    "        data[col]=pd.to_datetime(data[col])"
   ]
  },
  {
   "cell_type": "code",
   "execution_count": 95,
   "id": "5e46130a",
   "metadata": {},
   "outputs": [],
   "source": [
    "# Round bathroom values\n",
    "data['bathrooms'] = np.round(data['bathrooms'])"
   ]
  },
  {
   "cell_type": "code",
   "execution_count": 96,
   "id": "82971fe8",
   "metadata": {},
   "outputs": [],
   "source": [
    "# Convert type of columns from float to integer\n",
    "for cols in data.columns:\n",
    "    if 'room' in cols or 'floor' in cols:\n",
    "         data[cols] = data[cols].astype(int)"
   ]
  },
  {
   "cell_type": "code",
   "execution_count": 97,
   "id": "dc6a9637",
   "metadata": {},
   "outputs": [
    {
     "name": "stdout",
     "output_type": "stream",
     "text": [
      "<class 'pandas.core.frame.DataFrame'>\n",
      "RangeIndex: 545 entries, 0 to 544\n",
      "Data columns (total 13 columns):\n",
      " #   Column           Non-Null Count  Dtype         \n",
      "---  ------           --------------  -----         \n",
      " 0   date             545 non-null    datetime64[ns]\n",
      " 1   price            545 non-null    int64         \n",
      " 2   bedrooms         545 non-null    int32         \n",
      " 3   bathrooms        545 non-null    int32         \n",
      " 4   sqft_living      545 non-null    int64         \n",
      " 5   sqft_lot         545 non-null    int64         \n",
      " 6   floors           545 non-null    int32         \n",
      " 7   waterfront       545 non-null    int64         \n",
      " 8   view             545 non-null    int64         \n",
      " 9   sqft_above       545 non-null    int64         \n",
      " 10  yr_built         545 non-null    datetime64[ns]\n",
      " 11  airconditioning  545 non-null    object        \n",
      " 12  basement         545 non-null    object        \n",
      "dtypes: datetime64[ns](2), int32(3), int64(6), object(2)\n",
      "memory usage: 49.1+ KB\n"
     ]
    }
   ],
   "source": [
    "data.info()"
   ]
  },
  {
   "cell_type": "markdown",
   "id": "87c3a8d9",
   "metadata": {},
   "source": [
    "# Data Analysis"
   ]
  },
  {
   "cell_type": "code",
   "execution_count": 98,
   "id": "bf54c885",
   "metadata": {},
   "outputs": [
    {
     "data": {
      "text/html": [
       "<div>\n",
       "<style scoped>\n",
       "    .dataframe tbody tr th:only-of-type {\n",
       "        vertical-align: middle;\n",
       "    }\n",
       "\n",
       "    .dataframe tbody tr th {\n",
       "        vertical-align: top;\n",
       "    }\n",
       "\n",
       "    .dataframe thead th {\n",
       "        text-align: right;\n",
       "    }\n",
       "</style>\n",
       "<table border=\"1\" class=\"dataframe\">\n",
       "  <thead>\n",
       "    <tr style=\"text-align: right;\">\n",
       "      <th></th>\n",
       "      <th>date</th>\n",
       "      <th>price</th>\n",
       "      <th>bedrooms</th>\n",
       "      <th>bathrooms</th>\n",
       "      <th>sqft_living</th>\n",
       "      <th>sqft_lot</th>\n",
       "      <th>floors</th>\n",
       "      <th>waterfront</th>\n",
       "      <th>view</th>\n",
       "      <th>sqft_above</th>\n",
       "      <th>yr_built</th>\n",
       "    </tr>\n",
       "  </thead>\n",
       "  <tbody>\n",
       "    <tr>\n",
       "      <th>count</th>\n",
       "      <td>545</td>\n",
       "      <td>5.450000e+02</td>\n",
       "      <td>545.000000</td>\n",
       "      <td>545.000000</td>\n",
       "      <td>545.000000</td>\n",
       "      <td>545.000000</td>\n",
       "      <td>545.000000</td>\n",
       "      <td>545.000000</td>\n",
       "      <td>545.000000</td>\n",
       "      <td>545.000000</td>\n",
       "      <td>545</td>\n",
       "    </tr>\n",
       "    <tr>\n",
       "      <th>mean</th>\n",
       "      <td>2014-05-07 01:27:11.559633152</td>\n",
       "      <td>5.561772e+05</td>\n",
       "      <td>3.411009</td>\n",
       "      <td>2.082569</td>\n",
       "      <td>2126.713761</td>\n",
       "      <td>16987.018349</td>\n",
       "      <td>1.442202</td>\n",
       "      <td>0.009174</td>\n",
       "      <td>0.198165</td>\n",
       "      <td>1799.218349</td>\n",
       "      <td>1970-01-01 00:00:00.000001970</td>\n",
       "    </tr>\n",
       "    <tr>\n",
       "      <th>min</th>\n",
       "      <td>2014-05-02 00:00:00</td>\n",
       "      <td>1.000000e+05</td>\n",
       "      <td>1.000000</td>\n",
       "      <td>1.000000</td>\n",
       "      <td>700.000000</td>\n",
       "      <td>681.000000</td>\n",
       "      <td>1.000000</td>\n",
       "      <td>0.000000</td>\n",
       "      <td>0.000000</td>\n",
       "      <td>650.000000</td>\n",
       "      <td>1970-01-01 00:00:00.000001900</td>\n",
       "    </tr>\n",
       "    <tr>\n",
       "      <th>25%</th>\n",
       "      <td>2014-05-05 00:00:00</td>\n",
       "      <td>3.350000e+05</td>\n",
       "      <td>3.000000</td>\n",
       "      <td>2.000000</td>\n",
       "      <td>1420.000000</td>\n",
       "      <td>5003.000000</td>\n",
       "      <td>1.000000</td>\n",
       "      <td>0.000000</td>\n",
       "      <td>0.000000</td>\n",
       "      <td>1190.000000</td>\n",
       "      <td>1970-01-01 00:00:00.000001951</td>\n",
       "    </tr>\n",
       "    <tr>\n",
       "      <th>50%</th>\n",
       "      <td>2014-05-07 00:00:00</td>\n",
       "      <td>4.880000e+05</td>\n",
       "      <td>3.000000</td>\n",
       "      <td>2.000000</td>\n",
       "      <td>1940.000000</td>\n",
       "      <td>7740.000000</td>\n",
       "      <td>1.000000</td>\n",
       "      <td>0.000000</td>\n",
       "      <td>0.000000</td>\n",
       "      <td>1550.000000</td>\n",
       "      <td>1970-01-01 00:00:00.000001975</td>\n",
       "    </tr>\n",
       "    <tr>\n",
       "      <th>75%</th>\n",
       "      <td>2014-05-09 00:00:00</td>\n",
       "      <td>6.500000e+05</td>\n",
       "      <td>4.000000</td>\n",
       "      <td>2.000000</td>\n",
       "      <td>2600.000000</td>\n",
       "      <td>11130.000000</td>\n",
       "      <td>2.000000</td>\n",
       "      <td>0.000000</td>\n",
       "      <td>0.000000</td>\n",
       "      <td>2190.000000</td>\n",
       "      <td>1970-01-01 00:00:00.000001997</td>\n",
       "    </tr>\n",
       "    <tr>\n",
       "      <th>max</th>\n",
       "      <td>2014-05-13 00:00:00</td>\n",
       "      <td>3.200000e+06</td>\n",
       "      <td>9.000000</td>\n",
       "      <td>8.000000</td>\n",
       "      <td>13540.000000</td>\n",
       "      <td>435600.000000</td>\n",
       "      <td>3.000000</td>\n",
       "      <td>1.000000</td>\n",
       "      <td>4.000000</td>\n",
       "      <td>9410.000000</td>\n",
       "      <td>1970-01-01 00:00:00.000002014</td>\n",
       "    </tr>\n",
       "    <tr>\n",
       "      <th>std</th>\n",
       "      <td>NaN</td>\n",
       "      <td>3.440439e+05</td>\n",
       "      <td>0.941227</td>\n",
       "      <td>0.749123</td>\n",
       "      <td>1028.922574</td>\n",
       "      <td>38068.163676</td>\n",
       "      <td>0.579092</td>\n",
       "      <td>0.095430</td>\n",
       "      <td>0.692128</td>\n",
       "      <td>882.987693</td>\n",
       "      <td>NaN</td>\n",
       "    </tr>\n",
       "  </tbody>\n",
       "</table>\n",
       "</div>"
      ],
      "text/plain": [
       "                                date         price    bedrooms   bathrooms  \\\n",
       "count                            545  5.450000e+02  545.000000  545.000000   \n",
       "mean   2014-05-07 01:27:11.559633152  5.561772e+05    3.411009    2.082569   \n",
       "min              2014-05-02 00:00:00  1.000000e+05    1.000000    1.000000   \n",
       "25%              2014-05-05 00:00:00  3.350000e+05    3.000000    2.000000   \n",
       "50%              2014-05-07 00:00:00  4.880000e+05    3.000000    2.000000   \n",
       "75%              2014-05-09 00:00:00  6.500000e+05    4.000000    2.000000   \n",
       "max              2014-05-13 00:00:00  3.200000e+06    9.000000    8.000000   \n",
       "std                              NaN  3.440439e+05    0.941227    0.749123   \n",
       "\n",
       "        sqft_living       sqft_lot      floors  waterfront        view  \\\n",
       "count    545.000000     545.000000  545.000000  545.000000  545.000000   \n",
       "mean    2126.713761   16987.018349    1.442202    0.009174    0.198165   \n",
       "min      700.000000     681.000000    1.000000    0.000000    0.000000   \n",
       "25%     1420.000000    5003.000000    1.000000    0.000000    0.000000   \n",
       "50%     1940.000000    7740.000000    1.000000    0.000000    0.000000   \n",
       "75%     2600.000000   11130.000000    2.000000    0.000000    0.000000   \n",
       "max    13540.000000  435600.000000    3.000000    1.000000    4.000000   \n",
       "std     1028.922574   38068.163676    0.579092    0.095430    0.692128   \n",
       "\n",
       "        sqft_above                       yr_built  \n",
       "count   545.000000                            545  \n",
       "mean   1799.218349  1970-01-01 00:00:00.000001970  \n",
       "min     650.000000  1970-01-01 00:00:00.000001900  \n",
       "25%    1190.000000  1970-01-01 00:00:00.000001951  \n",
       "50%    1550.000000  1970-01-01 00:00:00.000001975  \n",
       "75%    2190.000000  1970-01-01 00:00:00.000001997  \n",
       "max    9410.000000  1970-01-01 00:00:00.000002014  \n",
       "std     882.987693                            NaN  "
      ]
     },
     "execution_count": 98,
     "metadata": {},
     "output_type": "execute_result"
    }
   ],
   "source": [
    "# Statistical measures\n",
    "data.describe()"
   ]
  },
  {
   "cell_type": "code",
   "execution_count": 99,
   "id": "eb07251c",
   "metadata": {},
   "outputs": [
    {
     "name": "stderr",
     "output_type": "stream",
     "text": [
      "C:\\Users\\Mohamed\\AppData\\Local\\Temp\\ipykernel_9584\\3852626559.py:1: UserWarning: \n",
      "\n",
      "`distplot` is a deprecated function and will be removed in seaborn v0.14.0.\n",
      "\n",
      "Please adapt your code to use either `displot` (a figure-level function with\n",
      "similar flexibility) or `histplot` (an axes-level function for histograms).\n",
      "\n",
      "For a guide to updating your code to use the new functions, please see\n",
      "https://gist.github.com/mwaskom/de44147ed2974457ad6372750bbe5751\n",
      "\n",
      "  sns.distplot(data['price'],kde=False,bins=30)\n"
     ]
    },
    {
     "data": {
      "text/plain": [
       "<Axes: xlabel='price'>"
      ]
     },
     "execution_count": 99,
     "metadata": {},
     "output_type": "execute_result"
    },
    {
     "data": {
      "image/png": "[encoded data removed]",
      "text/plain": [
       "<Figure size 640x480 with 1 Axes>"
      ]
     },
     "metadata": {},
     "output_type": "display_data"
    }
   ],
   "source": [
    "sns.distplot(data['price'],kde=False,bins=30)"
   ]
  },
  {
   "cell_type": "code",
   "execution_count": 100,
   "id": "8551df31",
   "metadata": {},
   "outputs": [
    {
     "data": {
      "text/html": [
       "<div>\n",
       "<style scoped>\n",
       "    .dataframe tbody tr th:only-of-type {\n",
       "        vertical-align: middle;\n",
       "    }\n",
       "\n",
       "    .dataframe tbody tr th {\n",
       "        vertical-align: top;\n",
       "    }\n",
       "\n",
       "    .dataframe thead th {\n",
       "        text-align: right;\n",
       "    }\n",
       "</style>\n",
       "<table border=\"1\" class=\"dataframe\">\n",
       "  <thead>\n",
       "    <tr style=\"text-align: right;\">\n",
       "      <th></th>\n",
       "      <th>price</th>\n",
       "      <th>bedrooms</th>\n",
       "      <th>bathrooms</th>\n",
       "      <th>sqft_living</th>\n",
       "      <th>sqft_lot</th>\n",
       "      <th>floors</th>\n",
       "      <th>waterfront</th>\n",
       "      <th>view</th>\n",
       "      <th>sqft_above</th>\n",
       "      <th>yr_built</th>\n",
       "    </tr>\n",
       "  </thead>\n",
       "  <tbody>\n",
       "    <tr>\n",
       "      <th>price</th>\n",
       "      <td>1.000000</td>\n",
       "      <td>0.422971</td>\n",
       "      <td>0.532982</td>\n",
       "      <td>0.704763</td>\n",
       "      <td>0.156499</td>\n",
       "      <td>0.201974</td>\n",
       "      <td>0.188689</td>\n",
       "      <td>0.416459</td>\n",
       "      <td>0.630490</td>\n",
       "      <td>-0.045092</td>\n",
       "    </tr>\n",
       "    <tr>\n",
       "      <th>bedrooms</th>\n",
       "      <td>0.422971</td>\n",
       "      <td>1.000000</td>\n",
       "      <td>0.548802</td>\n",
       "      <td>0.639022</td>\n",
       "      <td>0.118904</td>\n",
       "      <td>0.090879</td>\n",
       "      <td>-0.062523</td>\n",
       "      <td>0.128703</td>\n",
       "      <td>0.537075</td>\n",
       "      <td>0.055995</td>\n",
       "    </tr>\n",
       "    <tr>\n",
       "      <th>bathrooms</th>\n",
       "      <td>0.532982</td>\n",
       "      <td>0.548802</td>\n",
       "      <td>1.000000</td>\n",
       "      <td>0.728989</td>\n",
       "      <td>0.223756</td>\n",
       "      <td>0.297046</td>\n",
       "      <td>0.040812</td>\n",
       "      <td>0.202379</td>\n",
       "      <td>0.629977</td>\n",
       "      <td>0.275470</td>\n",
       "    </tr>\n",
       "    <tr>\n",
       "      <th>sqft_living</th>\n",
       "      <td>0.704763</td>\n",
       "      <td>0.639022</td>\n",
       "      <td>0.728989</td>\n",
       "      <td>1.000000</td>\n",
       "      <td>0.371086</td>\n",
       "      <td>0.274090</td>\n",
       "      <td>0.017999</td>\n",
       "      <td>0.282713</td>\n",
       "      <td>0.889546</td>\n",
       "      <td>0.216624</td>\n",
       "    </tr>\n",
       "    <tr>\n",
       "      <th>sqft_lot</th>\n",
       "      <td>0.156499</td>\n",
       "      <td>0.118904</td>\n",
       "      <td>0.223756</td>\n",
       "      <td>0.371086</td>\n",
       "      <td>1.000000</td>\n",
       "      <td>-0.009079</td>\n",
       "      <td>0.003720</td>\n",
       "      <td>0.078891</td>\n",
       "      <td>0.349154</td>\n",
       "      <td>0.101486</td>\n",
       "    </tr>\n",
       "    <tr>\n",
       "      <th>floors</th>\n",
       "      <td>0.201974</td>\n",
       "      <td>0.090879</td>\n",
       "      <td>0.297046</td>\n",
       "      <td>0.274090</td>\n",
       "      <td>-0.009079</td>\n",
       "      <td>1.000000</td>\n",
       "      <td>-0.040283</td>\n",
       "      <td>-0.012648</td>\n",
       "      <td>0.445472</td>\n",
       "      <td>0.563123</td>\n",
       "    </tr>\n",
       "    <tr>\n",
       "      <th>waterfront</th>\n",
       "      <td>0.188689</td>\n",
       "      <td>-0.062523</td>\n",
       "      <td>0.040812</td>\n",
       "      <td>0.017999</td>\n",
       "      <td>0.003720</td>\n",
       "      <td>-0.040283</td>\n",
       "      <td>1.000000</td>\n",
       "      <td>0.445553</td>\n",
       "      <td>0.039244</td>\n",
       "      <td>-0.053230</td>\n",
       "    </tr>\n",
       "    <tr>\n",
       "      <th>view</th>\n",
       "      <td>0.416459</td>\n",
       "      <td>0.128703</td>\n",
       "      <td>0.202379</td>\n",
       "      <td>0.282713</td>\n",
       "      <td>0.078891</td>\n",
       "      <td>-0.012648</td>\n",
       "      <td>0.445553</td>\n",
       "      <td>1.000000</td>\n",
       "      <td>0.199135</td>\n",
       "      <td>-0.091092</td>\n",
       "    </tr>\n",
       "    <tr>\n",
       "      <th>sqft_above</th>\n",
       "      <td>0.630490</td>\n",
       "      <td>0.537075</td>\n",
       "      <td>0.629977</td>\n",
       "      <td>0.889546</td>\n",
       "      <td>0.349154</td>\n",
       "      <td>0.445472</td>\n",
       "      <td>0.039244</td>\n",
       "      <td>0.199135</td>\n",
       "      <td>1.000000</td>\n",
       "      <td>0.327559</td>\n",
       "    </tr>\n",
       "    <tr>\n",
       "      <th>yr_built</th>\n",
       "      <td>-0.045092</td>\n",
       "      <td>0.055995</td>\n",
       "      <td>0.275470</td>\n",
       "      <td>0.216624</td>\n",
       "      <td>0.101486</td>\n",
       "      <td>0.563123</td>\n",
       "      <td>-0.053230</td>\n",
       "      <td>-0.091092</td>\n",
       "      <td>0.327559</td>\n",
       "      <td>1.000000</td>\n",
       "    </tr>\n",
       "  </tbody>\n",
       "</table>\n",
       "</div>"
      ],
      "text/plain": [
       "                price  bedrooms  bathrooms  sqft_living  sqft_lot    floors  \\\n",
       "price        1.000000  0.422971   0.532982     0.704763  0.156499  0.201974   \n",
       "bedrooms     0.422971  1.000000   0.548802     0.639022  0.118904  0.090879   \n",
       "bathrooms    0.532982  0.548802   1.000000     0.728989  0.223756  0.297046   \n",
       "sqft_living  0.704763  0.639022   0.728989     1.000000  0.371086  0.274090   \n",
       "sqft_lot     0.156499  0.118904   0.223756     0.371086  1.000000 -0.009079   \n",
       "floors       0.201974  0.090879   0.297046     0.274090 -0.009079  1.000000   \n",
       "waterfront   0.188689 -0.062523   0.040812     0.017999  0.003720 -0.040283   \n",
       "view         0.416459  0.128703   0.202379     0.282713  0.078891 -0.012648   \n",
       "sqft_above   0.630490  0.537075   0.629977     0.889546  0.349154  0.445472   \n",
       "yr_built    -0.045092  0.055995   0.275470     0.216624  0.101486  0.563123   \n",
       "\n",
       "             waterfront      view  sqft_above  yr_built  \n",
       "price          0.188689  0.416459    0.630490 -0.045092  \n",
       "bedrooms      -0.062523  0.128703    0.537075  0.055995  \n",
       "bathrooms      0.040812  0.202379    0.629977  0.275470  \n",
       "sqft_living    0.017999  0.282713    0.889546  0.216624  \n",
       "sqft_lot       0.003720  0.078891    0.349154  0.101486  \n",
       "floors        -0.040283 -0.012648    0.445472  0.563123  \n",
       "waterfront     1.000000  0.445553    0.039244 -0.053230  \n",
       "view           0.445553  1.000000    0.199135 -0.091092  \n",
       "sqft_above     0.039244  0.199135    1.000000  0.327559  \n",
       "yr_built      -0.053230 -0.091092    0.327559  1.000000  "
      ]
     },
     "execution_count": 100,
     "metadata": {},
     "output_type": "execute_result"
    }
   ],
   "source": [
    "# find the correlation\n",
    "correlation = data.iloc[:,1:11]\n",
    "correlation = correlation.corr()\n",
    "correlation"
   ]
  },
  {
   "cell_type": "code",
   "execution_count": 101,
   "id": "b3aff5b0",
   "metadata": {},
   "outputs": [
    {
     "data": {
      "text/plain": [
       "<Axes: >"
      ]
     },
     "execution_count": 101,
     "metadata": {},
     "output_type": "execute_result"
    },
    {
     "data": {
      "image/png": "[encoded data removed]",
      "text/plain": [
       "<Figure size 640x480 with 2 Axes>"
      ]
     },
     "metadata": {},
     "output_type": "display_data"
    }
   ],
   "source": [
    "sns.heatmap(correlation,annot=True,cmap='magma',linecolor='white',linewidth=1)"
   ]
  },
  {
   "cell_type": "code",
   "execution_count": 102,
   "id": "099f1fcf",
   "metadata": {},
   "outputs": [
    {
     "data": {
      "text/plain": [
       "<Axes: xlabel='basement', ylabel='count'>"
      ]
     },
     "execution_count": 102,
     "metadata": {},
     "output_type": "execute_result"
    },
    {
     "data": {
      "image/png": "[encoded data removed]",
      "text/plain": [
       "<Figure size 640x480 with 1 Axes>"
      ]
     },
     "metadata": {},
     "output_type": "display_data"
    }
   ],
   "source": [
    "sns.countplot(x='basement',data=data)"
   ]
  },
  {
   "cell_type": "code",
   "execution_count": 103,
   "id": "aa65f6f1",
   "metadata": {},
   "outputs": [
    {
     "data": {
      "text/plain": [
       "<Axes: xlabel='basement', ylabel='price'>"
      ]
     },
     "execution_count": 103,
     "metadata": {},
     "output_type": "execute_result"
    },
    {
     "data": {
      "image/png": "[encoded data removed]",
      "text/plain": [
       "<Figure size 640x480 with 1 Axes>"
      ]
     },
     "metadata": {},
     "output_type": "display_data"
    }
   ],
   "source": [
    "sns.barplot(x='basement',y='price',data=data)"
   ]
  },
  {
   "cell_type": "code",
   "execution_count": 104,
   "id": "8a115694",
   "metadata": {},
   "outputs": [
    {
     "data": {
      "text/plain": [
       "<Axes: xlabel='airconditioning', ylabel='price'>"
      ]
     },
     "execution_count": 104,
     "metadata": {},
     "output_type": "execute_result"
    },
    {
     "data": {
      "image/png": "[encoded data removed]",
      "text/plain": [
       "<Figure size 640x480 with 1 Axes>"
      ]
     },
     "metadata": {},
     "output_type": "display_data"
    }
   ],
   "source": [
    "sns.boxplot(x='airconditioning',y='price',data=data,palette='rainbow')"
   ]
  },
  {
   "cell_type": "markdown",
   "id": "02e870d9",
   "metadata": {},
   "source": [
    "# Spliting Dataset"
   ]
  },
  {
   "cell_type": "code",
   "execution_count": 105,
   "id": "03490cfe",
   "metadata": {},
   "outputs": [
    {
     "data": {
      "text/plain": [
       "0       313000\n",
       "1      2384000\n",
       "2       342000\n",
       "3       420000\n",
       "4       550000\n",
       "        ...   \n",
       "540     635000\n",
       "541    1033888\n",
       "542     383000\n",
       "543    1050000\n",
       "544     455000\n",
       "Name: price, Length: 545, dtype: int64"
      ]
     },
     "execution_count": 105,
     "metadata": {},
     "output_type": "execute_result"
    }
   ],
   "source": [
    "y = data.iloc[:,1]\n",
    "y"
   ]
  },
  {
   "cell_type": "code",
   "execution_count": 106,
   "id": "c8153d9f",
   "metadata": {},
   "outputs": [
    {
     "data": {
      "text/html": [
       "<div>\n",
       "<style scoped>\n",
       "    .dataframe tbody tr th:only-of-type {\n",
       "        vertical-align: middle;\n",
       "    }\n",
       "\n",
       "    .dataframe tbody tr th {\n",
       "        vertical-align: top;\n",
       "    }\n",
       "\n",
       "    .dataframe thead th {\n",
       "        text-align: right;\n",
       "    }\n",
       "</style>\n",
       "<table border=\"1\" class=\"dataframe\">\n",
       "  <thead>\n",
       "    <tr style=\"text-align: right;\">\n",
       "      <th></th>\n",
       "      <th>bedrooms</th>\n",
       "      <th>bathrooms</th>\n",
       "      <th>sqft_living</th>\n",
       "      <th>sqft_lot</th>\n",
       "      <th>floors</th>\n",
       "      <th>waterfront</th>\n",
       "      <th>view</th>\n",
       "      <th>sqft_above</th>\n",
       "    </tr>\n",
       "  </thead>\n",
       "  <tbody>\n",
       "    <tr>\n",
       "      <th>0</th>\n",
       "      <td>3</td>\n",
       "      <td>2</td>\n",
       "      <td>1340</td>\n",
       "      <td>7912</td>\n",
       "      <td>1</td>\n",
       "      <td>0</td>\n",
       "      <td>0</td>\n",
       "      <td>1340</td>\n",
       "    </tr>\n",
       "    <tr>\n",
       "      <th>1</th>\n",
       "      <td>5</td>\n",
       "      <td>2</td>\n",
       "      <td>3650</td>\n",
       "      <td>9050</td>\n",
       "      <td>2</td>\n",
       "      <td>0</td>\n",
       "      <td>4</td>\n",
       "      <td>3370</td>\n",
       "    </tr>\n",
       "    <tr>\n",
       "      <th>2</th>\n",
       "      <td>3</td>\n",
       "      <td>2</td>\n",
       "      <td>1930</td>\n",
       "      <td>11947</td>\n",
       "      <td>1</td>\n",
       "      <td>0</td>\n",
       "      <td>0</td>\n",
       "      <td>1930</td>\n",
       "    </tr>\n",
       "    <tr>\n",
       "      <th>3</th>\n",
       "      <td>3</td>\n",
       "      <td>2</td>\n",
       "      <td>2000</td>\n",
       "      <td>8030</td>\n",
       "      <td>1</td>\n",
       "      <td>0</td>\n",
       "      <td>0</td>\n",
       "      <td>1000</td>\n",
       "    </tr>\n",
       "    <tr>\n",
       "      <th>4</th>\n",
       "      <td>4</td>\n",
       "      <td>2</td>\n",
       "      <td>1940</td>\n",
       "      <td>10500</td>\n",
       "      <td>1</td>\n",
       "      <td>0</td>\n",
       "      <td>0</td>\n",
       "      <td>1140</td>\n",
       "    </tr>\n",
       "    <tr>\n",
       "      <th>...</th>\n",
       "      <td>...</td>\n",
       "      <td>...</td>\n",
       "      <td>...</td>\n",
       "      <td>...</td>\n",
       "      <td>...</td>\n",
       "      <td>...</td>\n",
       "      <td>...</td>\n",
       "      <td>...</td>\n",
       "    </tr>\n",
       "    <tr>\n",
       "      <th>540</th>\n",
       "      <td>3</td>\n",
       "      <td>2</td>\n",
       "      <td>1570</td>\n",
       "      <td>1433</td>\n",
       "      <td>3</td>\n",
       "      <td>0</td>\n",
       "      <td>0</td>\n",
       "      <td>1570</td>\n",
       "    </tr>\n",
       "    <tr>\n",
       "      <th>541</th>\n",
       "      <td>4</td>\n",
       "      <td>3</td>\n",
       "      <td>3270</td>\n",
       "      <td>5187</td>\n",
       "      <td>2</td>\n",
       "      <td>0</td>\n",
       "      <td>0</td>\n",
       "      <td>3110</td>\n",
       "    </tr>\n",
       "    <tr>\n",
       "      <th>542</th>\n",
       "      <td>4</td>\n",
       "      <td>2</td>\n",
       "      <td>2160</td>\n",
       "      <td>6223</td>\n",
       "      <td>2</td>\n",
       "      <td>0</td>\n",
       "      <td>0</td>\n",
       "      <td>2160</td>\n",
       "    </tr>\n",
       "    <tr>\n",
       "      <th>543</th>\n",
       "      <td>4</td>\n",
       "      <td>4</td>\n",
       "      <td>3280</td>\n",
       "      <td>11000</td>\n",
       "      <td>2</td>\n",
       "      <td>0</td>\n",
       "      <td>0</td>\n",
       "      <td>2320</td>\n",
       "    </tr>\n",
       "    <tr>\n",
       "      <th>544</th>\n",
       "      <td>4</td>\n",
       "      <td>2</td>\n",
       "      <td>3360</td>\n",
       "      <td>7685</td>\n",
       "      <td>2</td>\n",
       "      <td>0</td>\n",
       "      <td>0</td>\n",
       "      <td>3360</td>\n",
       "    </tr>\n",
       "  </tbody>\n",
       "</table>\n",
       "<p>545 rows × 8 columns</p>\n",
       "</div>"
      ],
      "text/plain": [
       "     bedrooms  bathrooms  sqft_living  sqft_lot  floors  waterfront  view  \\\n",
       "0           3          2         1340      7912       1           0     0   \n",
       "1           5          2         3650      9050       2           0     4   \n",
       "2           3          2         1930     11947       1           0     0   \n",
       "3           3          2         2000      8030       1           0     0   \n",
       "4           4          2         1940     10500       1           0     0   \n",
       "..        ...        ...          ...       ...     ...         ...   ...   \n",
       "540         3          2         1570      1433       3           0     0   \n",
       "541         4          3         3270      5187       2           0     0   \n",
       "542         4          2         2160      6223       2           0     0   \n",
       "543         4          4         3280     11000       2           0     0   \n",
       "544         4          2         3360      7685       2           0     0   \n",
       "\n",
       "     sqft_above  \n",
       "0          1340  \n",
       "1          3370  \n",
       "2          1930  \n",
       "3          1000  \n",
       "4          1140  \n",
       "..          ...  \n",
       "540        1570  \n",
       "541        3110  \n",
       "542        2160  \n",
       "543        2320  \n",
       "544        3360  \n",
       "\n",
       "[545 rows x 8 columns]"
      ]
     },
     "execution_count": 106,
     "metadata": {},
     "output_type": "execute_result"
    }
   ],
   "source": [
    "x = data.iloc[:,2:10]\n",
    "x"
   ]
  },
  {
   "cell_type": "code",
   "execution_count": 80,
   "id": "ba407d8b",
   "metadata": {},
   "outputs": [],
   "source": [
    "x = x.to_numpy()\n",
    "y = y.to_numpy()\n",
    "y = y.reshape(-1,1)"
   ]
  },
  {
   "cell_type": "code",
   "execution_count": 81,
   "id": "931136e0",
   "metadata": {},
   "outputs": [],
   "source": [
    "x_train , x_test , y_train , y_test = train_test_split(x , y , test_size = 0.3,random_state=0)"
   ]
  },
  {
   "cell_type": "code",
   "execution_count": 82,
   "id": "d757d211",
   "metadata": {},
   "outputs": [
    {
     "name": "stdout",
     "output_type": "stream",
     "text": [
      "The shape of X_train is (381, 8)\n",
      "The shape of Y_train is (381, 1)\n",
      "The shape of X_test is (164, 8)\n",
      "The shape of Y_test is (164, 1)\n"
     ]
    }
   ],
   "source": [
    "print(f\"The shape of X_train is {x_train.shape}\")\n",
    "print(f\"The shape of Y_train is {y_train.shape}\")\n",
    "print(f\"The shape of X_test is {x_test.shape}\")\n",
    "print(f\"The shape of Y_test is {y_test.shape}\")"
   ]
  },
  {
   "cell_type": "markdown",
   "id": "8ff95c3a",
   "metadata": {},
   "source": [
    "# Training the model"
   ]
  },
  {
   "cell_type": "code",
   "execution_count": 83,
   "id": "91f690e1",
   "metadata": {},
   "outputs": [],
   "source": [
    "# loading linearregression model\n",
    "reg =LinearRegression()"
   ]
  },
  {
   "cell_type": "code",
   "execution_count": 84,
   "id": "4ce0d116",
   "metadata": {},
   "outputs": [
    {
     "data": {
      "text/html": [
       "<style>#sk-container-id-5 {color: black;}#sk-container-id-5 pre{padding: 0;}#sk-container-id-5 div.sk-toggleable {background-color: white;}#sk-container-id-5 label.sk-toggleable__label {cursor: pointer;display: block;width: 100%;margin-bottom: 0;padding: 0.3em;box-sizing: border-box;text-align: center;}#sk-container-id-5 label.sk-toggleable__label-arrow:before {content: \"▸\";float: left;margin-right: 0.25em;color: #696969;}#sk-container-id-5 label.sk-toggleable__label-arrow:hover:before {color: black;}#sk-container-id-5 div.sk-estimator:hover label.sk-toggleable__label-arrow:before {color: black;}#sk-container-id-5 div.sk-toggleable__content {max-height: 0;max-width: 0;overflow: hidden;text-align: left;background-color: #f0f8ff;}#sk-container-id-5 div.sk-toggleable__content pre {margin: 0.2em;color: black;border-radius: 0.25em;background-color: #f0f8ff;}#sk-container-id-5 input.sk-toggleable__control:checked~div.sk-toggleable__content {max-height: 200px;max-width: 100%;overflow: auto;}#sk-container-id-5 input.sk-toggleable__control:checked~label.sk-toggleable__label-arrow:before {content: \"▾\";}#sk-container-id-5 div.sk-estimator input.sk-toggleable__control:checked~label.sk-toggleable__label {background-color: #d4ebff;}#sk-container-id-5 div.sk-label input.sk-toggleable__control:checked~label.sk-toggleable__label {background-color: #d4ebff;}#sk-container-id-5 input.sk-hidden--visually {border: 0;clip: rect(1px 1px 1px 1px);clip: rect(1px, 1px, 1px, 1px);height: 1px;margin: -1px;overflow: hidden;padding: 0;position: absolute;width: 1px;}#sk-container-id-5 div.sk-estimator {font-family: monospace;background-color: #f0f8ff;border: 1px dotted black;border-radius: 0.25em;box-sizing: border-box;margin-bottom: 0.5em;}#sk-container-id-5 div.sk-estimator:hover {background-color: #d4ebff;}#sk-container-id-5 div.sk-parallel-item::after {content: \"\";width: 100%;border-bottom: 1px solid gray;flex-grow: 1;}#sk-container-id-5 div.sk-label:hover label.sk-toggleable__label {background-color: #d4ebff;}#sk-container-id-5 div.sk-serial::before {content: \"\";position: absolute;border-left: 1px solid gray;box-sizing: border-box;top: 0;bottom: 0;left: 50%;z-index: 0;}#sk-container-id-5 div.sk-serial {display: flex;flex-direction: column;align-items: center;background-color: white;padding-right: 0.2em;padding-left: 0.2em;position: relative;}#sk-container-id-5 div.sk-item {position: relative;z-index: 1;}#sk-container-id-5 div.sk-parallel {display: flex;align-items: stretch;justify-content: center;background-color: white;position: relative;}#sk-container-id-5 div.sk-item::before, #sk-container-id-5 div.sk-parallel-item::before {content: \"\";position: absolute;border-left: 1px solid gray;box-sizing: border-box;top: 0;bottom: 0;left: 50%;z-index: -1;}#sk-container-id-5 div.sk-parallel-item {display: flex;flex-direction: column;z-index: 1;position: relative;background-color: white;}#sk-container-id-5 div.sk-parallel-item:first-child::after {align-self: flex-end;width: 50%;}#sk-container-id-5 div.sk-parallel-item:last-child::after {align-self: flex-start;width: 50%;}#sk-container-id-5 div.sk-parallel-item:only-child::after {width: 0;}#sk-container-id-5 div.sk-dashed-wrapped {border: 1px dashed gray;margin: 0 0.4em 0.5em 0.4em;box-sizing: border-box;padding-bottom: 0.4em;background-color: white;}#sk-container-id-5 div.sk-label label {font-family: monospace;font-weight: bold;display: inline-block;line-height: 1.2em;}#sk-container-id-5 div.sk-label-container {text-align: center;}#sk-container-id-5 div.sk-container {/* jupyter's `normalize.less` sets `[hidden] { display: none; }` but bootstrap.min.css set `[hidden] { display: none !important; }` so we also need the `!important` here to be able to override the default hidden behavior on the sphinx rendered scikit-learn.org. See: https://github.com/scikit-learn/scikit-learn/issues/21755 */display: inline-block !important;position: relative;}#sk-container-id-5 div.sk-text-repr-fallback {display: none;}</style><div id=\"sk-container-id-5\" class=\"sk-top-container\"><div class=\"sk-text-repr-fallback\"><pre>LinearRegression()</pre><b>In a Jupyter environment, please rerun this cell to show the HTML representation or trust the notebook. <br />On GitHub, the HTML representation is unable to render, please try loading this page with nbviewer.org.</b></div><div class=\"sk-container\" hidden><div class=\"sk-item\"><div class=\"sk-estimator sk-toggleable\"><input class=\"sk-toggleable__control sk-hidden--visually\" id=\"sk-estimator-id-5\" type=\"checkbox\" checked><label for=\"sk-estimator-id-5\" class=\"sk-toggleable__label sk-toggleable__label-arrow\">LinearRegression</label><div class=\"sk-toggleable__content\"><pre>LinearRegression()</pre></div></div></div></div></div>"
      ],
      "text/plain": [
       "LinearRegression()"
      ]
     },
     "execution_count": 84,
     "metadata": {},
     "output_type": "execute_result"
    }
   ],
   "source": [
    "# model training\n",
    "reg.fit(x_train,y_train)"
   ]
  },
  {
   "cell_type": "code",
   "execution_count": 85,
   "id": "032fbda8",
   "metadata": {},
   "outputs": [],
   "source": [
    "# model testing\n",
    "y_pred = reg.predict(x_test)"
   ]
  },
  {
   "cell_type": "code",
   "execution_count": 86,
   "id": "f516b1c5",
   "metadata": {},
   "outputs": [
    {
     "name": "stdout",
     "output_type": "stream",
     "text": [
      "0.5579954766566504\n",
      "0.5206830677520151\n"
     ]
    }
   ],
   "source": [
    "\n",
    "train_score = reg.score(x_train,y_train)\n",
    "\n",
    "test_score = reg.score(x_test,y_test)\n",
    "print(train_score)\n",
    "print(test_score)"
   ]
  },
  {
   "cell_type": "code",
   "execution_count": 68,
   "id": "27925f0d",
   "metadata": {},
   "outputs": [
    {
     "data": {
      "image/png": "[encoded data removed]",
      "text/plain": [
       "<Figure size 640x480 with 1 Axes>"
      ]
     },
     "metadata": {},
     "output_type": "display_data"
    }
   ],
   "source": [
    "plt.scatter(y_test,y_pred)\n",
    "plt.title('Actual Vs Predicted Price')\n",
    "plt.xlabel('Actual Price')\n",
    "plt.ylabel('Predicted Price')\n",
    "plt.show()"
   ]
  }
 ],
 "metadata": {
  "kernelspec": {
   "display_name": "Python 3 (ipykernel)",
   "language": "python",
   "name": "python3"
  },
  "language_info": {
   "codemirror_mode": {
    "name": "ipython",
    "version": 3
   },
   "file_extension": ".py",
   "mimetype": "text/x-python",
   "name": "python",
   "nbconvert_exporter": "python",
   "pygments_lexer": "ipython3",
   "version": "3.11.5"
  }
 },
 "nbformat": 4,
 "nbformat_minor": 5
}
